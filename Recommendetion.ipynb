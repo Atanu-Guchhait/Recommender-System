{
 "cells": [
  {
   "cell_type": "code",
   "execution_count": 1,
   "metadata": {},
   "outputs": [],
   "source": [
    "# Load require libraies\n",
    "import pandas as pd\n",
    "import numpy as np\n",
    "import matplotlib.pyplot as plt\n",
    "import seaborn as sns\n",
    "from scipy.sparse import coo_matrix"
   ]
  },
  {
   "cell_type": "code",
   "execution_count": 2,
   "metadata": {},
   "outputs": [
    {
     "data": {
      "text/html": [
       "<div>\n",
       "<style scoped>\n",
       "    .dataframe tbody tr th:only-of-type {\n",
       "        vertical-align: middle;\n",
       "    }\n",
       "\n",
       "    .dataframe tbody tr th {\n",
       "        vertical-align: top;\n",
       "    }\n",
       "\n",
       "    .dataframe thead th {\n",
       "        text-align: right;\n",
       "    }\n",
       "</style>\n",
       "<table border=\"1\" class=\"dataframe\">\n",
       "  <thead>\n",
       "    <tr style=\"text-align: right;\">\n",
       "      <th></th>\n",
       "      <th>Uniq Id</th>\n",
       "      <th>Crawl Timestamp</th>\n",
       "      <th>Dataset Origin</th>\n",
       "      <th>Product Id</th>\n",
       "      <th>Product Barcode</th>\n",
       "      <th>Product Company Type Source</th>\n",
       "      <th>Product Brand Source</th>\n",
       "      <th>Product Brand Normalised Source</th>\n",
       "      <th>Product Name Source</th>\n",
       "      <th>Match Rank</th>\n",
       "      <th>...</th>\n",
       "      <th>Product Currency</th>\n",
       "      <th>Product Available Inventory</th>\n",
       "      <th>Product Image Url</th>\n",
       "      <th>Product Model Number</th>\n",
       "      <th>Product Tags</th>\n",
       "      <th>Product Contents</th>\n",
       "      <th>Product Rating</th>\n",
       "      <th>Product Reviews Count</th>\n",
       "      <th>Bsr</th>\n",
       "      <th>Joining Key</th>\n",
       "    </tr>\n",
       "  </thead>\n",
       "  <tbody>\n",
       "    <tr>\n",
       "      <th>0</th>\n",
       "      <td>1705736792d82aa2f2d3caf1c07c53f4</td>\n",
       "      <td>2020-09-24 03:21:12 +0000</td>\n",
       "      <td>NaN</td>\n",
       "      <td>2e17bf4acecdece67fc00f07ad62c910</td>\n",
       "      <td>NaN</td>\n",
       "      <td>Competitor</td>\n",
       "      <td>NaN</td>\n",
       "      <td>NaN</td>\n",
       "      <td>NaN</td>\n",
       "      <td>NaN</td>\n",
       "      <td>...</td>\n",
       "      <td>USD</td>\n",
       "      <td>111111111</td>\n",
       "      <td>https://i5.walmartimages.com/asr/0e1f4c51-c1a4...</td>\n",
       "      <td>NaN</td>\n",
       "      <td>OPI Infinite Shine, Nail Lacquer Nail Polish, ...</td>\n",
       "      <td>NaN</td>\n",
       "      <td>NaN</td>\n",
       "      <td>NaN</td>\n",
       "      <td>NaN</td>\n",
       "      <td>81350af1be98d3753cf964709f0c766a</td>\n",
       "    </tr>\n",
       "    <tr>\n",
       "      <th>1</th>\n",
       "      <td>95a9fe6f4810fcfc7ff244fd06784f11</td>\n",
       "      <td>2020-10-30 14:04:08 +0000</td>\n",
       "      <td>NaN</td>\n",
       "      <td>076e5854a62dd283c253d6bae415af1f</td>\n",
       "      <td>NaN</td>\n",
       "      <td>Competitor</td>\n",
       "      <td>NaN</td>\n",
       "      <td>NaN</td>\n",
       "      <td>NaN</td>\n",
       "      <td>NaN</td>\n",
       "      <td>...</td>\n",
       "      <td>USD</td>\n",
       "      <td>111111111</td>\n",
       "      <td>https://i5.walmartimages.com/asr/9c8e42e4-13a5...</td>\n",
       "      <td>NaN</td>\n",
       "      <td>Nice 'n Easy Permanent Color, 111 Natural Medi...</td>\n",
       "      <td>NaN</td>\n",
       "      <td>NaN</td>\n",
       "      <td>NaN</td>\n",
       "      <td>NaN</td>\n",
       "      <td>0353e63907dc0de0c734db4690300057</td>\n",
       "    </tr>\n",
       "    <tr>\n",
       "      <th>2</th>\n",
       "      <td>8d4d0330178d3ed181b15a4102b287f2</td>\n",
       "      <td>2020-08-06 05:51:47 +0000</td>\n",
       "      <td>NaN</td>\n",
       "      <td>8a4fe5d9c7a6ed26cc44d785a454b124</td>\n",
       "      <td>NaN</td>\n",
       "      <td>Competitor</td>\n",
       "      <td>NaN</td>\n",
       "      <td>NaN</td>\n",
       "      <td>NaN</td>\n",
       "      <td>NaN</td>\n",
       "      <td>...</td>\n",
       "      <td>USD</td>\n",
       "      <td>111111111</td>\n",
       "      <td>https://i5.walmartimages.com/asr/e3a601c2-6a2b...</td>\n",
       "      <td>NaN</td>\n",
       "      <td>Clairol Nice 'N Easy Permanent Color 7/106A Na...</td>\n",
       "      <td>NaN</td>\n",
       "      <td>4.5</td>\n",
       "      <td>29221.0</td>\n",
       "      <td>NaN</td>\n",
       "      <td>b6985c8e94815fbca2319dbb8bf228af</td>\n",
       "    </tr>\n",
       "    <tr>\n",
       "      <th>3</th>\n",
       "      <td>fddc4df45b35efd886794b261f730c51</td>\n",
       "      <td>2020-07-15 11:22:04 +0000</td>\n",
       "      <td>NaN</td>\n",
       "      <td>03b5fb878a33eadff8b033419eab9669</td>\n",
       "      <td>NaN</td>\n",
       "      <td>Competitor</td>\n",
       "      <td>NaN</td>\n",
       "      <td>NaN</td>\n",
       "      <td>NaN</td>\n",
       "      <td>NaN</td>\n",
       "      <td>...</td>\n",
       "      <td>USD</td>\n",
       "      <td>111111111</td>\n",
       "      <td>https://i5.walmartimages.com/asr/25b4b467-bc61...</td>\n",
       "      <td>NaN</td>\n",
       "      <td>Kokie Professional Matte Lipstick, Hot Berry, ...</td>\n",
       "      <td>NaN</td>\n",
       "      <td>NaN</td>\n",
       "      <td>NaN</td>\n",
       "      <td>NaN</td>\n",
       "      <td>85b70fded09186f00467cea2f935b779</td>\n",
       "    </tr>\n",
       "    <tr>\n",
       "      <th>4</th>\n",
       "      <td>0990cf89a59ca6a0460349a3e4f51d42</td>\n",
       "      <td>2020-11-26T12:27:20+00:00</td>\n",
       "      <td>NaN</td>\n",
       "      <td>ce3d761e57d6ccad80619297b5b1bcbc</td>\n",
       "      <td>NaN</td>\n",
       "      <td>Competitor</td>\n",
       "      <td>NaN</td>\n",
       "      <td>NaN</td>\n",
       "      <td>NaN</td>\n",
       "      <td>NaN</td>\n",
       "      <td>...</td>\n",
       "      <td>USD</td>\n",
       "      <td>111111111</td>\n",
       "      <td>https://i5.walmartimages.com/asr/1a2ebb06-cd01...</td>\n",
       "      <td>NaN</td>\n",
       "      <td>Gillette TRAC II Plus Razor Blade Refills, Fit...</td>\n",
       "      <td>NaN</td>\n",
       "      <td>NaN</td>\n",
       "      <td>131.0</td>\n",
       "      <td>NaN</td>\n",
       "      <td>41c870871328e97da6fb036bb7d4b2da</td>\n",
       "    </tr>\n",
       "  </tbody>\n",
       "</table>\n",
       "<p>5 rows × 32 columns</p>\n",
       "</div>"
      ],
      "text/plain": [
       "                            Uniq Id            Crawl Timestamp  \\\n",
       "0  1705736792d82aa2f2d3caf1c07c53f4  2020-09-24 03:21:12 +0000   \n",
       "1  95a9fe6f4810fcfc7ff244fd06784f11  2020-10-30 14:04:08 +0000   \n",
       "2  8d4d0330178d3ed181b15a4102b287f2  2020-08-06 05:51:47 +0000   \n",
       "3  fddc4df45b35efd886794b261f730c51  2020-07-15 11:22:04 +0000   \n",
       "4  0990cf89a59ca6a0460349a3e4f51d42  2020-11-26T12:27:20+00:00   \n",
       "\n",
       "   Dataset Origin                        Product Id  Product Barcode  \\\n",
       "0             NaN  2e17bf4acecdece67fc00f07ad62c910              NaN   \n",
       "1             NaN  076e5854a62dd283c253d6bae415af1f              NaN   \n",
       "2             NaN  8a4fe5d9c7a6ed26cc44d785a454b124              NaN   \n",
       "3             NaN  03b5fb878a33eadff8b033419eab9669              NaN   \n",
       "4             NaN  ce3d761e57d6ccad80619297b5b1bcbc              NaN   \n",
       "\n",
       "  Product Company Type Source Product Brand Source  \\\n",
       "0                  Competitor                  NaN   \n",
       "1                  Competitor                  NaN   \n",
       "2                  Competitor                  NaN   \n",
       "3                  Competitor                  NaN   \n",
       "4                  Competitor                  NaN   \n",
       "\n",
       "  Product Brand Normalised Source Product Name Source  Match Rank  ...  \\\n",
       "0                             NaN                 NaN         NaN  ...   \n",
       "1                             NaN                 NaN         NaN  ...   \n",
       "2                             NaN                 NaN         NaN  ...   \n",
       "3                             NaN                 NaN         NaN  ...   \n",
       "4                             NaN                 NaN         NaN  ...   \n",
       "\n",
       "   Product Currency  Product Available Inventory  \\\n",
       "0               USD                    111111111   \n",
       "1               USD                    111111111   \n",
       "2               USD                    111111111   \n",
       "3               USD                    111111111   \n",
       "4               USD                    111111111   \n",
       "\n",
       "                                   Product Image Url Product Model Number  \\\n",
       "0  https://i5.walmartimages.com/asr/0e1f4c51-c1a4...                  NaN   \n",
       "1  https://i5.walmartimages.com/asr/9c8e42e4-13a5...                  NaN   \n",
       "2  https://i5.walmartimages.com/asr/e3a601c2-6a2b...                  NaN   \n",
       "3  https://i5.walmartimages.com/asr/25b4b467-bc61...                  NaN   \n",
       "4  https://i5.walmartimages.com/asr/1a2ebb06-cd01...                  NaN   \n",
       "\n",
       "                                        Product Tags Product Contents  \\\n",
       "0  OPI Infinite Shine, Nail Lacquer Nail Polish, ...              NaN   \n",
       "1  Nice 'n Easy Permanent Color, 111 Natural Medi...              NaN   \n",
       "2  Clairol Nice 'N Easy Permanent Color 7/106A Na...              NaN   \n",
       "3  Kokie Professional Matte Lipstick, Hot Berry, ...              NaN   \n",
       "4  Gillette TRAC II Plus Razor Blade Refills, Fit...              NaN   \n",
       "\n",
       "   Product Rating  Product Reviews Count  Bsr  \\\n",
       "0             NaN                    NaN  NaN   \n",
       "1             NaN                    NaN  NaN   \n",
       "2             4.5                29221.0  NaN   \n",
       "3             NaN                    NaN  NaN   \n",
       "4             NaN                  131.0  NaN   \n",
       "\n",
       "                        Joining Key  \n",
       "0  81350af1be98d3753cf964709f0c766a  \n",
       "1  0353e63907dc0de0c734db4690300057  \n",
       "2  b6985c8e94815fbca2319dbb8bf228af  \n",
       "3  85b70fded09186f00467cea2f935b779  \n",
       "4  41c870871328e97da6fb036bb7d4b2da  \n",
       "\n",
       "[5 rows x 32 columns]"
      ]
     },
     "execution_count": 2,
     "metadata": {},
     "output_type": "execute_result"
    }
   ],
   "source": [
    "df = pd.read_csv(r'D:\\OneDrive\\Desktop\\Recommendetion system\\marketing_sample_for_walmart_com-walmart_com_product_review__20200701_20201231__5k_data.csv',sep='\\t')\n",
    "df.head(5)"
   ]
  },
  {
   "cell_type": "code",
   "execution_count": 3,
   "metadata": {},
   "outputs": [
    {
     "data": {
      "text/plain": [
       "Index(['Uniq Id', 'Crawl Timestamp', 'Dataset Origin', 'Product Id',\n",
       "       'Product Barcode', 'Product Company Type Source',\n",
       "       'Product Brand Source', 'Product Brand Normalised Source',\n",
       "       'Product Name Source', 'Match Rank', 'Match Score', 'Match Type',\n",
       "       'Retailer', 'Product Category', 'Product Brand', 'Product Name',\n",
       "       'Product Price', 'Sku', 'Upc', 'Product Url', 'Market',\n",
       "       'Product Description', 'Product Currency',\n",
       "       'Product Available Inventory', 'Product Image Url',\n",
       "       'Product Model Number', 'Product Tags', 'Product Contents',\n",
       "       'Product Rating', 'Product Reviews Count', 'Bsr', 'Joining Key'],\n",
       "      dtype='object')"
      ]
     },
     "execution_count": 3,
     "metadata": {},
     "output_type": "execute_result"
    }
   ],
   "source": [
    "df.columns"
   ]
  },
  {
   "cell_type": "code",
   "execution_count": 4,
   "metadata": {},
   "outputs": [
    {
     "data": {
      "text/html": [
       "<div>\n",
       "<style scoped>\n",
       "    .dataframe tbody tr th:only-of-type {\n",
       "        vertical-align: middle;\n",
       "    }\n",
       "\n",
       "    .dataframe tbody tr th {\n",
       "        vertical-align: top;\n",
       "    }\n",
       "\n",
       "    .dataframe thead th {\n",
       "        text-align: right;\n",
       "    }\n",
       "</style>\n",
       "<table border=\"1\" class=\"dataframe\">\n",
       "  <thead>\n",
       "    <tr style=\"text-align: right;\">\n",
       "      <th></th>\n",
       "      <th>Uniq Id</th>\n",
       "      <th>Product Id</th>\n",
       "      <th>Product Rating</th>\n",
       "      <th>Product Reviews Count</th>\n",
       "      <th>Product Category</th>\n",
       "      <th>Product Brand</th>\n",
       "      <th>Product Name</th>\n",
       "      <th>Product Image Url</th>\n",
       "      <th>Product Description</th>\n",
       "      <th>Product Tags</th>\n",
       "    </tr>\n",
       "  </thead>\n",
       "  <tbody>\n",
       "    <tr>\n",
       "      <th>0</th>\n",
       "      <td>1705736792d82aa2f2d3caf1c07c53f4</td>\n",
       "      <td>2e17bf4acecdece67fc00f07ad62c910</td>\n",
       "      <td>NaN</td>\n",
       "      <td>NaN</td>\n",
       "      <td>Premium Beauty &gt; Premium Makeup &gt; Premium Nail...</td>\n",
       "      <td>OPI</td>\n",
       "      <td>OPI Infinite Shine, Nail Lacquer Nail Polish, ...</td>\n",
       "      <td>https://i5.walmartimages.com/asr/0e1f4c51-c1a4...</td>\n",
       "      <td>NaN</td>\n",
       "      <td>OPI Infinite Shine, Nail Lacquer Nail Polish, ...</td>\n",
       "    </tr>\n",
       "  </tbody>\n",
       "</table>\n",
       "</div>"
      ],
      "text/plain": [
       "                            Uniq Id                        Product Id  \\\n",
       "0  1705736792d82aa2f2d3caf1c07c53f4  2e17bf4acecdece67fc00f07ad62c910   \n",
       "\n",
       "   Product Rating  Product Reviews Count  \\\n",
       "0             NaN                    NaN   \n",
       "\n",
       "                                    Product Category Product Brand  \\\n",
       "0  Premium Beauty > Premium Makeup > Premium Nail...           OPI   \n",
       "\n",
       "                                        Product Name  \\\n",
       "0  OPI Infinite Shine, Nail Lacquer Nail Polish, ...   \n",
       "\n",
       "                                   Product Image Url Product Description  \\\n",
       "0  https://i5.walmartimages.com/asr/0e1f4c51-c1a4...                 NaN   \n",
       "\n",
       "                                        Product Tags  \n",
       "0  OPI Infinite Shine, Nail Lacquer Nail Polish, ...  "
      ]
     },
     "execution_count": 4,
     "metadata": {},
     "output_type": "execute_result"
    }
   ],
   "source": [
    "# Extracting important column\n",
    "dataset = df[['Uniq Id','Product Id','Product Rating','Product Reviews Count','Product Category','Product Brand','Product Name','Product Image Url','Product Description','Product Tags']]\n",
    "dataset.head(1)"
   ]
  },
  {
   "cell_type": "code",
   "execution_count": 5,
   "metadata": {},
   "outputs": [
    {
     "data": {
      "text/plain": [
       "Uniq Id                     0\n",
       "Product Id                  0\n",
       "Product Rating           2806\n",
       "Product Reviews Count    1654\n",
       "Product Category           10\n",
       "Product Brand              13\n",
       "Product Name                0\n",
       "Product Image Url           0\n",
       "Product Description      1127\n",
       "Product Tags                0\n",
       "dtype: int64"
      ]
     },
     "execution_count": 5,
     "metadata": {},
     "output_type": "execute_result"
    }
   ],
   "source": [
    "# Check null value\n",
    "dataset.isnull().sum()"
   ]
  },
  {
   "cell_type": "code",
   "execution_count": 6,
   "metadata": {},
   "outputs": [
    {
     "name": "stdout",
     "output_type": "stream",
     "text": [
      "<class 'pandas.core.frame.DataFrame'>\n",
      "RangeIndex: 5000 entries, 0 to 4999\n",
      "Data columns (total 10 columns):\n",
      " #   Column                 Non-Null Count  Dtype  \n",
      "---  ------                 --------------  -----  \n",
      " 0   Uniq Id                5000 non-null   object \n",
      " 1   Product Id             5000 non-null   object \n",
      " 2   Product Rating         2194 non-null   float64\n",
      " 3   Product Reviews Count  3346 non-null   float64\n",
      " 4   Product Category       4990 non-null   object \n",
      " 5   Product Brand          4987 non-null   object \n",
      " 6   Product Name           5000 non-null   object \n",
      " 7   Product Image Url      5000 non-null   object \n",
      " 8   Product Description    3873 non-null   object \n",
      " 9   Product Tags           5000 non-null   object \n",
      "dtypes: float64(2), object(8)\n",
      "memory usage: 390.8+ KB\n"
     ]
    }
   ],
   "source": [
    "dataset.info()"
   ]
  },
  {
   "cell_type": "code",
   "execution_count": 7,
   "metadata": {},
   "outputs": [
    {
     "data": {
      "text/plain": [
       "Index(['Uniq Id', 'Product Id', 'Product Rating', 'Product Reviews Count',\n",
       "       'Product Category', 'Product Brand', 'Product Name',\n",
       "       'Product Image Url', 'Product Description', 'Product Tags'],\n",
       "      dtype='object')"
      ]
     },
     "execution_count": 7,
     "metadata": {},
     "output_type": "execute_result"
    }
   ],
   "source": [
    "dataset.columns"
   ]
  },
  {
   "cell_type": "code",
   "execution_count": 8,
   "metadata": {},
   "outputs": [],
   "source": [
    "from sklearn.impute import SimpleImputer\n",
    "from sklearn.compose import ColumnTransformer\n",
    "import pandas as pd\n",
    "\n",
    "# Define the transformer\n",
    "transformer = ColumnTransformer(\n",
    "    transformers=[\n",
    "        ('tf1', SimpleImputer(strategy='constant', fill_value=0), ['Product Rating', 'Product Reviews Count']),\n",
    "        ('tf2', SimpleImputer(strategy='constant', fill_value=' '), ['Product Category', 'Product Brand', 'Product Description'])\n",
    "    ],\n",
    "    remainder='passthrough',\n",
    "    verbose_feature_names_out=False\n",
    ")\n",
    "\n",
    "# Apply the transformation\n",
    "transformer_data = transformer.fit_transform(dataset)\n",
    "\n",
    "# Get the column names in the original order\n",
    "original_columns = dataset.columns\n",
    "\n",
    "# Convert to DataFrame with original column order\n",
    "dataset = pd.DataFrame(transformer_data, columns=transformer.get_feature_names_out())\n",
    "dataset = dataset[original_columns]\n"
   ]
  },
  {
   "cell_type": "code",
   "execution_count": 9,
   "metadata": {},
   "outputs": [
    {
     "data": {
      "text/html": [
       "<div>\n",
       "<style scoped>\n",
       "    .dataframe tbody tr th:only-of-type {\n",
       "        vertical-align: middle;\n",
       "    }\n",
       "\n",
       "    .dataframe tbody tr th {\n",
       "        vertical-align: top;\n",
       "    }\n",
       "\n",
       "    .dataframe thead th {\n",
       "        text-align: right;\n",
       "    }\n",
       "</style>\n",
       "<table border=\"1\" class=\"dataframe\">\n",
       "  <thead>\n",
       "    <tr style=\"text-align: right;\">\n",
       "      <th></th>\n",
       "      <th>Uniq Id</th>\n",
       "      <th>Product Id</th>\n",
       "      <th>Product Rating</th>\n",
       "      <th>Product Reviews Count</th>\n",
       "      <th>Product Category</th>\n",
       "      <th>Product Brand</th>\n",
       "      <th>Product Name</th>\n",
       "      <th>Product Image Url</th>\n",
       "      <th>Product Description</th>\n",
       "      <th>Product Tags</th>\n",
       "    </tr>\n",
       "  </thead>\n",
       "  <tbody>\n",
       "    <tr>\n",
       "      <th>0</th>\n",
       "      <td>1705736792d82aa2f2d3caf1c07c53f4</td>\n",
       "      <td>2e17bf4acecdece67fc00f07ad62c910</td>\n",
       "      <td>0.0</td>\n",
       "      <td>0.0</td>\n",
       "      <td>Premium Beauty &gt; Premium Makeup &gt; Premium Nail...</td>\n",
       "      <td>OPI</td>\n",
       "      <td>OPI Infinite Shine, Nail Lacquer Nail Polish, ...</td>\n",
       "      <td>https://i5.walmartimages.com/asr/0e1f4c51-c1a4...</td>\n",
       "      <td></td>\n",
       "      <td>OPI Infinite Shine, Nail Lacquer Nail Polish, ...</td>\n",
       "    </tr>\n",
       "  </tbody>\n",
       "</table>\n",
       "</div>"
      ],
      "text/plain": [
       "                            Uniq Id                        Product Id  \\\n",
       "0  1705736792d82aa2f2d3caf1c07c53f4  2e17bf4acecdece67fc00f07ad62c910   \n",
       "\n",
       "  Product Rating Product Reviews Count  \\\n",
       "0            0.0                   0.0   \n",
       "\n",
       "                                    Product Category Product Brand  \\\n",
       "0  Premium Beauty > Premium Makeup > Premium Nail...           OPI   \n",
       "\n",
       "                                        Product Name  \\\n",
       "0  OPI Infinite Shine, Nail Lacquer Nail Polish, ...   \n",
       "\n",
       "                                   Product Image Url Product Description  \\\n",
       "0  https://i5.walmartimages.com/asr/0e1f4c51-c1a4...                       \n",
       "\n",
       "                                        Product Tags  \n",
       "0  OPI Infinite Shine, Nail Lacquer Nail Polish, ...  "
      ]
     },
     "execution_count": 9,
     "metadata": {},
     "output_type": "execute_result"
    }
   ],
   "source": [
    "dataset.head(1)"
   ]
  },
  {
   "cell_type": "code",
   "execution_count": 10,
   "metadata": {},
   "outputs": [
    {
     "data": {
      "text/plain": [
       "Uniq Id                  0\n",
       "Product Id               0\n",
       "Product Rating           0\n",
       "Product Reviews Count    0\n",
       "Product Category         0\n",
       "Product Brand            0\n",
       "Product Name             0\n",
       "Product Image Url        0\n",
       "Product Description      0\n",
       "Product Tags             0\n",
       "dtype: int64"
      ]
     },
     "execution_count": 10,
     "metadata": {},
     "output_type": "execute_result"
    }
   ],
   "source": [
    "dataset.isnull().sum()"
   ]
  },
  {
   "cell_type": "code",
   "execution_count": 11,
   "metadata": {},
   "outputs": [
    {
     "data": {
      "text/plain": [
       "0"
      ]
     },
     "execution_count": 11,
     "metadata": {},
     "output_type": "execute_result"
    }
   ],
   "source": [
    "dataset.duplicated().sum()"
   ]
  },
  {
   "cell_type": "code",
   "execution_count": 12,
   "metadata": {},
   "outputs": [
    {
     "name": "stdout",
     "output_type": "stream",
     "text": [
      "<class 'pandas.core.frame.DataFrame'>\n",
      "RangeIndex: 5000 entries, 0 to 4999\n",
      "Data columns (total 10 columns):\n",
      " #   Column                 Non-Null Count  Dtype \n",
      "---  ------                 --------------  ----- \n",
      " 0   Uniq Id                5000 non-null   object\n",
      " 1   Product Id             5000 non-null   object\n",
      " 2   Product Rating         5000 non-null   object\n",
      " 3   Product Reviews Count  5000 non-null   object\n",
      " 4   Product Category       5000 non-null   object\n",
      " 5   Product Brand          5000 non-null   object\n",
      " 6   Product Name           5000 non-null   object\n",
      " 7   Product Image Url      5000 non-null   object\n",
      " 8   Product Description    5000 non-null   object\n",
      " 9   Product Tags           5000 non-null   object\n",
      "dtypes: object(10)\n",
      "memory usage: 390.8+ KB\n"
     ]
    }
   ],
   "source": [
    "dataset.info()"
   ]
  },
  {
   "cell_type": "code",
   "execution_count": 13,
   "metadata": {},
   "outputs": [],
   "source": [
    "# make columns shorter\n",
    "# Define the mapping of current column names to shorter names\n",
    "column_name_mapping = {\n",
    "    'Uniq Id': 'ID',\n",
    "    'Product Id': 'ProdID',\n",
    "    'Product Rating': 'Rating',\n",
    "    'Product Reviews Count': 'ReviewCount',\n",
    "    'Product Category': 'Category',\n",
    "    'Product Brand': 'Brand',\n",
    "    'Product Name': 'Name',\n",
    "    'Product Image Url': 'ImageURL',\n",
    "    'Product Description': 'Description',\n",
    "    'Product Tags': 'Tags',\n",
    "    'Product Contents': 'Contents'\n",
    "}\n",
    "# Rename the columns using the mapping\n",
    "dataset.rename(columns=column_name_mapping, inplace=True)"
   ]
  },
  {
   "cell_type": "code",
   "execution_count": 14,
   "metadata": {},
   "outputs": [],
   "source": [
    "dataset['ID'] = dataset['ID'].str.extract(r'(\\d+)').astype(float)\n",
    "dataset['ProdID'] = dataset['ProdID'].str.extract(r'(\\d+)').astype(float)"
   ]
  },
  {
   "cell_type": "code",
   "execution_count": 15,
   "metadata": {},
   "outputs": [
    {
     "data": {
      "text/html": [
       "<div>\n",
       "<style scoped>\n",
       "    .dataframe tbody tr th:only-of-type {\n",
       "        vertical-align: middle;\n",
       "    }\n",
       "\n",
       "    .dataframe tbody tr th {\n",
       "        vertical-align: top;\n",
       "    }\n",
       "\n",
       "    .dataframe thead th {\n",
       "        text-align: right;\n",
       "    }\n",
       "</style>\n",
       "<table border=\"1\" class=\"dataframe\">\n",
       "  <thead>\n",
       "    <tr style=\"text-align: right;\">\n",
       "      <th></th>\n",
       "      <th>ID</th>\n",
       "      <th>ProdID</th>\n",
       "      <th>Rating</th>\n",
       "      <th>ReviewCount</th>\n",
       "      <th>Category</th>\n",
       "      <th>Brand</th>\n",
       "      <th>Name</th>\n",
       "      <th>ImageURL</th>\n",
       "      <th>Description</th>\n",
       "      <th>Tags</th>\n",
       "    </tr>\n",
       "  </thead>\n",
       "  <tbody>\n",
       "    <tr>\n",
       "      <th>1831</th>\n",
       "      <td>6.0</td>\n",
       "      <td>51.0</td>\n",
       "      <td>0.0</td>\n",
       "      <td>1.0</td>\n",
       "      <td>Health &gt; Superfoods &amp; Cleanses &gt; Detox Teas</td>\n",
       "      <td>Only Natural</td>\n",
       "      <td>Only Natural Dieters Tea Cleanse and Trim Oran...</td>\n",
       "      <td>https://i5.walmartimages.com/asr/29710b03-c251...</td>\n",
       "      <td>Gluten FreeNon-GMO Corn60 Calories Per CupVege...</td>\n",
       "      <td>Only Natural Dieter's Tea Cleanse and Trim Ora...</td>\n",
       "    </tr>\n",
       "    <tr>\n",
       "      <th>2507</th>\n",
       "      <td>5.0</td>\n",
       "      <td>4548270.0</td>\n",
       "      <td>0.0</td>\n",
       "      <td>105.0</td>\n",
       "      <td>Personal Care &gt; Bath &amp; Body &gt; Body Lotions &amp; C...</td>\n",
       "      <td>Eucerin</td>\n",
       "      <td>2 Pack - Eucerin Advanced Repair Dry Skin Loti...</td>\n",
       "      <td>https://i5.walmartimages.com/asr/44e2ec01-f6e6...</td>\n",
       "      <td>Pack of 2 for the UPC: 072140634827 Dermatolog...</td>\n",
       "      <td>2 Pack - Eucerin Advanced Repair Dry Skin Loti...</td>\n",
       "    </tr>\n",
       "  </tbody>\n",
       "</table>\n",
       "</div>"
      ],
      "text/plain": [
       "       ID     ProdID Rating ReviewCount  \\\n",
       "1831  6.0       51.0    0.0         1.0   \n",
       "2507  5.0  4548270.0    0.0       105.0   \n",
       "\n",
       "                                               Category         Brand  \\\n",
       "1831        Health > Superfoods & Cleanses > Detox Teas  Only Natural   \n",
       "2507  Personal Care > Bath & Body > Body Lotions & C...       Eucerin   \n",
       "\n",
       "                                                   Name  \\\n",
       "1831  Only Natural Dieters Tea Cleanse and Trim Oran...   \n",
       "2507  2 Pack - Eucerin Advanced Repair Dry Skin Loti...   \n",
       "\n",
       "                                               ImageURL  \\\n",
       "1831  https://i5.walmartimages.com/asr/29710b03-c251...   \n",
       "2507  https://i5.walmartimages.com/asr/44e2ec01-f6e6...   \n",
       "\n",
       "                                            Description  \\\n",
       "1831  Gluten FreeNon-GMO Corn60 Calories Per CupVege...   \n",
       "2507  Pack of 2 for the UPC: 072140634827 Dermatolog...   \n",
       "\n",
       "                                                   Tags  \n",
       "1831  Only Natural Dieter's Tea Cleanse and Trim Ora...  \n",
       "2507  2 Pack - Eucerin Advanced Repair Dry Skin Loti...  "
      ]
     },
     "execution_count": 15,
     "metadata": {},
     "output_type": "execute_result"
    }
   ],
   "source": [
    "# Exploratory Data Analysis (EDA)\n",
    "\n",
    "dataset.sample(2)"
   ]
  },
  {
   "cell_type": "code",
   "execution_count": 16,
   "metadata": {},
   "outputs": [
    {
     "data": {
      "text/plain": [
       "(5000, 10)"
      ]
     },
     "execution_count": 16,
     "metadata": {},
     "output_type": "execute_result"
    }
   ],
   "source": [
    "dataset.shape"
   ]
  },
  {
   "cell_type": "code",
   "execution_count": 17,
   "metadata": {},
   "outputs": [
    {
     "name": "stdout",
     "output_type": "stream",
     "text": [
      "Number of Users : 1721\n",
      "Number of Unique Product : 1697\n"
     ]
    }
   ],
   "source": [
    "unique_user = dataset['ID'].nunique()\n",
    "unique_product = dataset['ProdID'].nunique()\n",
    "\n",
    "print(f\"Number of Users : {unique_user}\")\n",
    "print(f\"Number of Unique Product : {unique_product}\")\n"
   ]
  },
  {
   "cell_type": "code",
   "execution_count": 18,
   "metadata": {},
   "outputs": [
    {
     "data": {
      "image/png": "[encoded data removed]",
      "text/plain": [
       "<Figure size 640x480 with 1 Axes>"
      ]
     },
     "metadata": {},
     "output_type": "display_data"
    }
   ],
   "source": [
    "# Get the top 5 most common brands with highest product\n",
    "dataset['Brand'].value_counts().head(5).plot(kind='bar',color=['r','g','b','y','brown'])\n",
    "plt.show()"
   ]
  },
  {
   "cell_type": "code",
   "execution_count": 19,
   "metadata": {},
   "outputs": [
    {
     "data": {
      "image/png": "[encoded data removed]",
      "text/plain": [
       "<Figure size 640x480 with 1 Axes>"
      ]
     },
     "metadata": {},
     "output_type": "display_data"
    }
   ],
   "source": [
    "# Top 5 Rating Brand\n",
    "dataset.groupby('Brand')['Rating'].mean().sort_values(ascending=False).head(5).plot(kind='bar',color=['brown','b','y','g','r'])\n",
    "plt.show()\n"
   ]
  },
  {
   "cell_type": "code",
   "execution_count": 20,
   "metadata": {},
   "outputs": [
    {
     "data": {
      "text/plain": [
       "<Axes: xlabel='Category'>"
      ]
     },
     "execution_count": 20,
     "metadata": {},
     "output_type": "execute_result"
    },
    {
     "data": {
      "image/png": "[encoded data removed]",
      "text/plain": [
       "<Figure size 640x480 with 1 Axes>"
      ]
     },
     "metadata": {},
     "output_type": "display_data"
    }
   ],
   "source": [
    "# Top Reviews on product\n",
    "dataset.groupby('Category')['ReviewCount'].mean().sort_values(ascending=False).head(5).plot(kind='bar',color= ['#FF5733', '#33FF57', '#3357FF', '#F0E68C', '#FF33A1'])"
   ]
  },
  {
   "cell_type": "code",
   "execution_count": 21,
   "metadata": {},
   "outputs": [
    {
     "data": {
      "image/png": "[encoded data removed]",
      "text/plain": [
       "<Figure size 1000x800 with 1 Axes>"
      ]
     },
     "metadata": {},
     "output_type": "display_data"
    }
   ],
   "source": [
    "# most ratings by user \n",
    "plt.figure(figsize=(10,8))\n",
    "dataset['Rating'].value_counts().plot(kind='bar',color='r')\n",
    "plt.show()"
   ]
  },
  {
   "cell_type": "code",
   "execution_count": 22,
   "metadata": {},
   "outputs": [
    {
     "data": {
      "text/html": [
       "<div>\n",
       "<style scoped>\n",
       "    .dataframe tbody tr th:only-of-type {\n",
       "        vertical-align: middle;\n",
       "    }\n",
       "\n",
       "    .dataframe tbody tr th {\n",
       "        vertical-align: top;\n",
       "    }\n",
       "\n",
       "    .dataframe thead th {\n",
       "        text-align: right;\n",
       "    }\n",
       "</style>\n",
       "<table border=\"1\" class=\"dataframe\">\n",
       "  <thead>\n",
       "    <tr style=\"text-align: right;\">\n",
       "      <th></th>\n",
       "      <th>ID</th>\n",
       "      <th>ProdID</th>\n",
       "      <th>Rating</th>\n",
       "      <th>ReviewCount</th>\n",
       "      <th>Category</th>\n",
       "      <th>Brand</th>\n",
       "      <th>Name</th>\n",
       "      <th>ImageURL</th>\n",
       "      <th>Description</th>\n",
       "      <th>Tags</th>\n",
       "    </tr>\n",
       "  </thead>\n",
       "  <tbody>\n",
       "    <tr>\n",
       "      <th>1851</th>\n",
       "      <td>1.0</td>\n",
       "      <td>0.0</td>\n",
       "      <td>0.0</td>\n",
       "      <td>342.0</td>\n",
       "      <td>Health &gt; Pain Relievers &gt; Specialty Pain Relie...</td>\n",
       "      <td>Blue-Emu</td>\n",
       "      <td>Blue-Emu Original Topical Cream, 4 Oz.</td>\n",
       "      <td>https://i5.walmartimages.com/asr/c9fdfeb9-f1a6...</td>\n",
       "      <td>Soothe tired joints and muscles with Blue Emu ...</td>\n",
       "      <td>Blue-Emu Original Topical Cream, 4 Oz., Wal-ma...</td>\n",
       "    </tr>\n",
       "  </tbody>\n",
       "</table>\n",
       "</div>"
      ],
      "text/plain": [
       "       ID  ProdID Rating ReviewCount  \\\n",
       "1851  1.0     0.0    0.0       342.0   \n",
       "\n",
       "                                               Category     Brand  \\\n",
       "1851  Health > Pain Relievers > Specialty Pain Relie...  Blue-Emu   \n",
       "\n",
       "                                        Name  \\\n",
       "1851  Blue-Emu Original Topical Cream, 4 Oz.   \n",
       "\n",
       "                                               ImageURL  \\\n",
       "1851  https://i5.walmartimages.com/asr/c9fdfeb9-f1a6...   \n",
       "\n",
       "                                            Description  \\\n",
       "1851  Soothe tired joints and muscles with Blue Emu ...   \n",
       "\n",
       "                                                   Tags  \n",
       "1851  Blue-Emu Original Topical Cream, 4 Oz., Wal-ma...  "
      ]
     },
     "execution_count": 22,
     "metadata": {},
     "output_type": "execute_result"
    }
   ],
   "source": [
    "# Text Preprocessing and Tags creations\n",
    "dataset.sample(1)"
   ]
  },
  {
   "cell_type": "code",
   "execution_count": 39,
   "metadata": {},
   "outputs": [],
   "source": [
    "import nltk\n",
    "from nltk.tokenize import sent_tokenize,word_tokenize\n",
    "from nltk.corpus import stopwords\n",
    "from nltk.stem import PorterStemmer,WordNetLemmatizer\n",
    "import re"
   ]
  },
  {
   "cell_type": "code",
   "execution_count": 40,
   "metadata": {},
   "outputs": [],
   "source": [
    "lemma = WordNetLemmatizer()"
   ]
  },
  {
   "cell_type": "code",
   "execution_count": 41,
   "metadata": {},
   "outputs": [],
   "source": [
    "\n",
    "# Initialize the lemmatizer\n",
    "lemma = WordNetLemmatizer()\n",
    "\n",
    "def helper(text):\n",
    "    # Convert text to lowercase\n",
    "    text = text.lower()\n",
    "    \n",
    "    # Remove unnecessary symbols\n",
    "    clean_text = re.sub(r'[^A-Za-z0-9\\s]+', '', text)\n",
    "    \n",
    "    # Tokenize into words\n",
    "    clean_text = word_tokenize(clean_text)\n",
    "    \n",
    "    # Remove stopwords and apply lemmatization\n",
    "    clean_text = [lemma.lemmatize(word, pos='v') for word in clean_text if word not in set(stopwords.words('english'))]\n",
    "    \n",
    "    # Join the list back into a single string\n",
    "    clean_text = ','.join(clean_text)\n",
    "    \n",
    "    # Return the cleaned text\n",
    "    return clean_text\n",
    "\n",
    "# List of columns to apply the helper function on\n",
    "columns_to_extract_tags_from = ['Category', 'Brand', 'Description']\n",
    "\n",
    "# Apply the helper function to each specified column\n",
    "for column in columns_to_extract_tags_from:\n",
    "    dataset[column] = dataset[column].apply(helper)\n"
   ]
  },
  {
   "cell_type": "code",
   "execution_count": 42,
   "metadata": {},
   "outputs": [],
   "source": [
    "dataset['tags'] = dataset['Category'] + dataset['Brand'] + dataset['Description']"
   ]
  },
  {
   "cell_type": "code",
   "execution_count": 43,
   "metadata": {},
   "outputs": [
    {
     "data": {
      "text/plain": [
       "0       premiumbeautypremiummakeuppremiumnailpolishcar...\n",
       "1       beautyhaircarehaircolorauburnhaircolorniceneas...\n",
       "2       beautyhaircarehaircolorpermanenthaircolorclair...\n",
       "3       beautymakeuplipkokiecosmeticscallmatteliplover...\n",
       "4       seasonalstockessentialspersonalcarestockstocks...\n",
       "                              ...                        \n",
       "4995    householdessentialsairfreshenerssprayairfreshe...\n",
       "4996    beautyhaircarehaircolorpermanenthaircolorgarni...\n",
       "4997    beautymakeupnailstonewaymultifunctionalnaildri...\n",
       "4998    premiumbeautypremiumbathbodypremiumbodywashsho...\n",
       "4999    beautymakeupfacemakeupfacemakeupbrandcovergirl...\n",
       "Name: tags, Length: 5000, dtype: object"
      ]
     },
     "execution_count": 43,
     "metadata": {},
     "output_type": "execute_result"
    }
   ],
   "source": [
    "dataset['tags']"
   ]
  },
  {
   "cell_type": "code",
   "execution_count": 44,
   "metadata": {},
   "outputs": [],
   "source": [
    "# Rating base Recommendation systems \n",
    "top_rated_items = dataset.groupby(['Name','ReviewCount','Brand','ImageURL'])['Rating'].mean().reset_index().sort_values(by='Rating',ascending=False)"
   ]
  },
  {
   "cell_type": "code",
   "execution_count": 45,
   "metadata": {},
   "outputs": [],
   "source": [
    "top_rated_items[['Rating','ReviewCount']] = top_rated_items[['Rating','ReviewCount']].astype(int)"
   ]
  },
  {
   "cell_type": "code",
   "execution_count": 46,
   "metadata": {},
   "outputs": [
    {
     "data": {
      "text/html": [
       "<div>\n",
       "<style scoped>\n",
       "    .dataframe tbody tr th:only-of-type {\n",
       "        vertical-align: middle;\n",
       "    }\n",
       "\n",
       "    .dataframe tbody tr th {\n",
       "        vertical-align: top;\n",
       "    }\n",
       "\n",
       "    .dataframe thead th {\n",
       "        text-align: right;\n",
       "    }\n",
       "</style>\n",
       "<table border=\"1\" class=\"dataframe\">\n",
       "  <thead>\n",
       "    <tr style=\"text-align: right;\">\n",
       "      <th></th>\n",
       "      <th>Name</th>\n",
       "      <th>ReviewCount</th>\n",
       "      <th>Brand</th>\n",
       "      <th>ImageURL</th>\n",
       "      <th>Rating</th>\n",
       "    </tr>\n",
       "  </thead>\n",
       "  <tbody>\n",
       "    <tr>\n",
       "      <th>1686</th>\n",
       "      <td>Electric Shaver, Triple Shaving Time Electric ...</td>\n",
       "      <td>4</td>\n",
       "      <td>moosoo</td>\n",
       "      <td>https://i5.walmartimages.com/asr/e7dcd553-90df...</td>\n",
       "      <td>5</td>\n",
       "    </tr>\n",
       "    <tr>\n",
       "      <th>526</th>\n",
       "      <td>Alaffia Body Lotion, Vanilla, 32 Oz</td>\n",
       "      <td>2</td>\n",
       "      <td>alaffia</td>\n",
       "      <td>https://i5.walmartimages.com/asr/2988c323-cb6f...</td>\n",
       "      <td>5</td>\n",
       "    </tr>\n",
       "    <tr>\n",
       "      <th>2053</th>\n",
       "      <td>Gold Bond Ultimate Ultimate Healing Lotion, Al...</td>\n",
       "      <td>2</td>\n",
       "      <td>goldbond</td>\n",
       "      <td>https://i5.walmartimages.com/asr/34b610e7-05db...</td>\n",
       "      <td>5</td>\n",
       "    </tr>\n",
       "    <tr>\n",
       "      <th>4716</th>\n",
       "      <td>Versace Man Eau Fraiche Eau De Toilette Spray,...</td>\n",
       "      <td>24</td>\n",
       "      <td>versace</td>\n",
       "      <td>https://i5.walmartimages.com/asr/edaaeed5-9da0...</td>\n",
       "      <td>5</td>\n",
       "    </tr>\n",
       "    <tr>\n",
       "      <th>2058</th>\n",
       "      <td>Goldwell StyleSign 1 Flat Marvel Straightening...</td>\n",
       "      <td>2</td>\n",
       "      <td>goldwell</td>\n",
       "      <td>https://i5.walmartimages.com/asr/3bf90289-6980...</td>\n",
       "      <td>5</td>\n",
       "    </tr>\n",
       "    <tr>\n",
       "      <th>...</th>\n",
       "      <td>...</td>\n",
       "      <td>...</td>\n",
       "      <td>...</td>\n",
       "      <td>...</td>\n",
       "      <td>...</td>\n",
       "    </tr>\n",
       "    <tr>\n",
       "      <th>2172</th>\n",
       "      <td>Herbal Clean Same-Day Premium Detox Drink 20oz...</td>\n",
       "      <td>0</td>\n",
       "      <td>herbalclean</td>\n",
       "      <td>https://i5.walmartimages.com/asr/5dbe0d57-ea2a...</td>\n",
       "      <td>0</td>\n",
       "    </tr>\n",
       "    <tr>\n",
       "      <th>2173</th>\n",
       "      <td>Herbal Clean Same-Day Premium Detox Drink, 32o...</td>\n",
       "      <td>1</td>\n",
       "      <td>herbalclean</td>\n",
       "      <td>https://i5.walmartimages.com/asr/7510a9ff-ed21...</td>\n",
       "      <td>0</td>\n",
       "    </tr>\n",
       "    <tr>\n",
       "      <th>2174</th>\n",
       "      <td>Herbal Essences Bio:renew Vitamin E with Cocoa...</td>\n",
       "      <td>143</td>\n",
       "      <td>herbalessences</td>\n",
       "      <td>https://i5.walmartimages.com/asr/cd06460b-e7f0...</td>\n",
       "      <td>0</td>\n",
       "    </tr>\n",
       "    <tr>\n",
       "      <th>2175</th>\n",
       "      <td>Herbal Essences Color Me Happy Conditioner Aca...</td>\n",
       "      <td>231</td>\n",
       "      <td>herbalessences</td>\n",
       "      <td>https://i5.walmartimages.com/asr/54ca3569-c45d...</td>\n",
       "      <td>0</td>\n",
       "    </tr>\n",
       "    <tr>\n",
       "      <th>4991</th>\n",
       "      <td>wnw i-shimmer eyepencil sky li</td>\n",
       "      <td>0</td>\n",
       "      <td>wetnwild</td>\n",
       "      <td>https://i5.walmartimages.com/asr/806e2816-e092...</td>\n",
       "      <td>0</td>\n",
       "    </tr>\n",
       "  </tbody>\n",
       "</table>\n",
       "<p>4992 rows × 5 columns</p>\n",
       "</div>"
      ],
      "text/plain": [
       "                                                   Name  ReviewCount  \\\n",
       "1686  Electric Shaver, Triple Shaving Time Electric ...            4   \n",
       "526                 Alaffia Body Lotion, Vanilla, 32 Oz            2   \n",
       "2053  Gold Bond Ultimate Ultimate Healing Lotion, Al...            2   \n",
       "4716  Versace Man Eau Fraiche Eau De Toilette Spray,...           24   \n",
       "2058  Goldwell StyleSign 1 Flat Marvel Straightening...            2   \n",
       "...                                                 ...          ...   \n",
       "2172  Herbal Clean Same-Day Premium Detox Drink 20oz...            0   \n",
       "2173  Herbal Clean Same-Day Premium Detox Drink, 32o...            1   \n",
       "2174  Herbal Essences Bio:renew Vitamin E with Cocoa...          143   \n",
       "2175  Herbal Essences Color Me Happy Conditioner Aca...          231   \n",
       "4991                     wnw i-shimmer eyepencil sky li            0   \n",
       "\n",
       "               Brand                                           ImageURL  \\\n",
       "1686          moosoo  https://i5.walmartimages.com/asr/e7dcd553-90df...   \n",
       "526          alaffia  https://i5.walmartimages.com/asr/2988c323-cb6f...   \n",
       "2053        goldbond  https://i5.walmartimages.com/asr/34b610e7-05db...   \n",
       "4716         versace  https://i5.walmartimages.com/asr/edaaeed5-9da0...   \n",
       "2058        goldwell  https://i5.walmartimages.com/asr/3bf90289-6980...   \n",
       "...              ...                                                ...   \n",
       "2172     herbalclean  https://i5.walmartimages.com/asr/5dbe0d57-ea2a...   \n",
       "2173     herbalclean  https://i5.walmartimages.com/asr/7510a9ff-ed21...   \n",
       "2174  herbalessences  https://i5.walmartimages.com/asr/cd06460b-e7f0...   \n",
       "2175  herbalessences  https://i5.walmartimages.com/asr/54ca3569-c45d...   \n",
       "4991        wetnwild  https://i5.walmartimages.com/asr/806e2816-e092...   \n",
       "\n",
       "      Rating  \n",
       "1686       5  \n",
       "526        5  \n",
       "2053       5  \n",
       "4716       5  \n",
       "2058       5  \n",
       "...      ...  \n",
       "2172       0  \n",
       "2173       0  \n",
       "2174       0  \n",
       "2175       0  \n",
       "4991       0  \n",
       "\n",
       "[4992 rows x 5 columns]"
      ]
     },
     "execution_count": 46,
     "metadata": {},
     "output_type": "execute_result"
    }
   ],
   "source": [
    "top_rated_items"
   ]
  },
  {
   "cell_type": "markdown",
   "metadata": {},
   "source": [
    "Content base recommendation system"
   ]
  },
  {
   "cell_type": "code",
   "execution_count": 47,
   "metadata": {},
   "outputs": [],
   "source": [
    "from sklearn.feature_extraction.text import TfidfVectorizer\n",
    "from sklearn.metrics.pairwise import cosine_similarity\n",
    "\n",
    "def content_based_recommendations(dataset, item_name, top_n=10):\n",
    "    # Check if the item name exists in the training data\n",
    "    if item_name not in dataset['Name'].values:\n",
    "        print(f\"Item '{item_name}' not found in the training data.\")\n",
    "        return pd.DataFrame()\n",
    "\n",
    "    # Create a TF-IDF vectorizer for item descriptions\n",
    "    tfidf_vectorizer = TfidfVectorizer(stop_words='english')\n",
    "\n",
    "    # Apply TF-IDF vectorization to item descriptions\n",
    "    tfidf_matrix_content = tfidf_vectorizer.fit_transform(dataset['Tags'])\n",
    "\n",
    "    # Calculate cosine similarity between items based on descriptions\n",
    "    cosine_similarities_content = cosine_similarity(tfidf_matrix_content, tfidf_matrix_content)\n",
    "\n",
    "    # Find the index of the item\n",
    "    item_index = dataset[dataset['Name'] == item_name].index[0]\n",
    "\n",
    "    # Get the cosine similarity scores for the item\n",
    "    similar_items = list(enumerate(cosine_similarities_content[item_index]))\n",
    "\n",
    "    # Sort similar items by similarity score in descending order\n",
    "    similar_items = sorted(similar_items, key=lambda x: x[1], reverse=True)\n",
    "\n",
    "    # Get the top N most similar items (excluding the item itself)\n",
    "    top_similar_items = similar_items[1:top_n+1]\n",
    "\n",
    "    # Get the indices of the top similar items\n",
    "    recommended_item_indices = [x[0] for x in top_similar_items]\n",
    "\n",
    "    # Get the details of the top similar items\n",
    "    recommended_items_details = dataset.iloc[recommended_item_indices][['Name', 'ReviewCount', 'Brand', 'ImageURL', 'Rating']]\n",
    "\n",
    "    return recommended_items_details"
   ]
  },
  {
   "cell_type": "code",
   "execution_count": 54,
   "metadata": {},
   "outputs": [
    {
     "data": {
      "text/html": [
       "<div>\n",
       "<style scoped>\n",
       "    .dataframe tbody tr th:only-of-type {\n",
       "        vertical-align: middle;\n",
       "    }\n",
       "\n",
       "    .dataframe tbody tr th {\n",
       "        vertical-align: top;\n",
       "    }\n",
       "\n",
       "    .dataframe thead th {\n",
       "        text-align: right;\n",
       "    }\n",
       "</style>\n",
       "<table border=\"1\" class=\"dataframe\">\n",
       "  <thead>\n",
       "    <tr style=\"text-align: right;\">\n",
       "      <th></th>\n",
       "      <th>Name</th>\n",
       "      <th>ReviewCount</th>\n",
       "      <th>Brand</th>\n",
       "      <th>ImageURL</th>\n",
       "      <th>Rating</th>\n",
       "    </tr>\n",
       "  </thead>\n",
       "  <tbody>\n",
       "    <tr>\n",
       "      <th>620</th>\n",
       "      <td>Fruit of the Earth Vitamin-E Skin Care Cream 8 oz</td>\n",
       "      <td>9.0</td>\n",
       "      <td>fruitearth</td>\n",
       "      <td>https://i5.walmartimages.com/asr/e6e60e13-0007...</td>\n",
       "      <td>0.0</td>\n",
       "    </tr>\n",
       "    <tr>\n",
       "      <th>4977</th>\n",
       "      <td>Fruit of the Earth Aloe Vera 100% Gel 12 oz (P...</td>\n",
       "      <td>1.0</td>\n",
       "      <td>fruitearth</td>\n",
       "      <td>https://i5.walmartimages.com/asr/5a570fcc-0bd9...</td>\n",
       "      <td>5.0</td>\n",
       "    </tr>\n",
       "    <tr>\n",
       "      <th>3602</th>\n",
       "      <td>Glade PlugIns Scented Oil Refills Vanilla Pass...</td>\n",
       "      <td>0.0</td>\n",
       "      <td>glade</td>\n",
       "      <td>https://i5.walmartimages.com/asr/ab90a0c9-58ef...</td>\n",
       "      <td>0.0</td>\n",
       "    </tr>\n",
       "    <tr>\n",
       "      <th>3864</th>\n",
       "      <td>Glade PlugIns Scented Oil Refills Vanilla Pass...</td>\n",
       "      <td>0.0</td>\n",
       "      <td>glade</td>\n",
       "      <td>https://i5.walmartimages.com/asr/5b72da06-e4c2...</td>\n",
       "      <td>0.0</td>\n",
       "    </tr>\n",
       "    <tr>\n",
       "      <th>4602</th>\n",
       "      <td>3 Pack - Orajel Toddler Training Toothpaste Fr...</td>\n",
       "      <td>13.0</td>\n",
       "      <td>orajel</td>\n",
       "      <td>https://i5.walmartimages.com/asr/17c9ce4e-77d4...</td>\n",
       "      <td>4.7</td>\n",
       "    </tr>\n",
       "    <tr>\n",
       "      <th>3494</th>\n",
       "      <td>Fruit of the Earth Aloe Vera Gel Crystal Clear...</td>\n",
       "      <td>0.0</td>\n",
       "      <td>fruitearth</td>\n",
       "      <td>https://i5.walmartimages.com/asr/4c58604c-f9e7...</td>\n",
       "      <td>0.0</td>\n",
       "    </tr>\n",
       "    <tr>\n",
       "      <th>3210</th>\n",
       "      <td>XXTRA CLEAN 20 oz Tropical Fruit Herbal Cleans...</td>\n",
       "      <td>0.0</td>\n",
       "      <td>detoxify</td>\n",
       "      <td>https://i5.walmartimages.com/asr/aabb724d-958b...</td>\n",
       "      <td>0.0</td>\n",
       "    </tr>\n",
       "    <tr>\n",
       "      <th>831</th>\n",
       "      <td>Gianna Rose Fruit-Shaped Soap in Leaf Dish, Lemon</td>\n",
       "      <td>0.0</td>\n",
       "      <td>giannarise</td>\n",
       "      <td>https://i5.walmartimages.com/asr/f8802e45-4b42...</td>\n",
       "      <td>0.0</td>\n",
       "    </tr>\n",
       "    <tr>\n",
       "      <th>3872</th>\n",
       "      <td>Herbal Clean Same-Day Premium Detox Drink, 32o...</td>\n",
       "      <td>1.0</td>\n",
       "      <td>herbalclean</td>\n",
       "      <td>https://i5.walmartimages.com/asr/7510a9ff-ed21...</td>\n",
       "      <td>0.0</td>\n",
       "    </tr>\n",
       "    <tr>\n",
       "      <th>2413</th>\n",
       "      <td>Super Colon 1800 Weight Loss Detox Cleanse All...</td>\n",
       "      <td>0.0</td>\n",
       "      <td>maritzmayer</td>\n",
       "      <td>https://i5.walmartimages.com/asr/ac11c894-0064...</td>\n",
       "      <td>0.0</td>\n",
       "    </tr>\n",
       "  </tbody>\n",
       "</table>\n",
       "</div>"
      ],
      "text/plain": [
       "                                                   Name ReviewCount  \\\n",
       "620   Fruit of the Earth Vitamin-E Skin Care Cream 8 oz         9.0   \n",
       "4977  Fruit of the Earth Aloe Vera 100% Gel 12 oz (P...         1.0   \n",
       "3602  Glade PlugIns Scented Oil Refills Vanilla Pass...         0.0   \n",
       "3864  Glade PlugIns Scented Oil Refills Vanilla Pass...         0.0   \n",
       "4602  3 Pack - Orajel Toddler Training Toothpaste Fr...        13.0   \n",
       "3494  Fruit of the Earth Aloe Vera Gel Crystal Clear...         0.0   \n",
       "3210  XXTRA CLEAN 20 oz Tropical Fruit Herbal Cleans...         0.0   \n",
       "831   Gianna Rose Fruit-Shaped Soap in Leaf Dish, Lemon         0.0   \n",
       "3872  Herbal Clean Same-Day Premium Detox Drink, 32o...         1.0   \n",
       "2413  Super Colon 1800 Weight Loss Detox Cleanse All...         0.0   \n",
       "\n",
       "            Brand                                           ImageURL Rating  \n",
       "620    fruitearth  https://i5.walmartimages.com/asr/e6e60e13-0007...    0.0  \n",
       "4977   fruitearth  https://i5.walmartimages.com/asr/5a570fcc-0bd9...    5.0  \n",
       "3602        glade  https://i5.walmartimages.com/asr/ab90a0c9-58ef...    0.0  \n",
       "3864        glade  https://i5.walmartimages.com/asr/5b72da06-e4c2...    0.0  \n",
       "4602       orajel  https://i5.walmartimages.com/asr/17c9ce4e-77d4...    4.7  \n",
       "3494   fruitearth  https://i5.walmartimages.com/asr/4c58604c-f9e7...    0.0  \n",
       "3210     detoxify  https://i5.walmartimages.com/asr/aabb724d-958b...    0.0  \n",
       "831    giannarise  https://i5.walmartimages.com/asr/f8802e45-4b42...    0.0  \n",
       "3872  herbalclean  https://i5.walmartimages.com/asr/7510a9ff-ed21...    0.0  \n",
       "2413  maritzmayer  https://i5.walmartimages.com/asr/ac11c894-0064...    0.0  "
      ]
     },
     "execution_count": 54,
     "metadata": {},
     "output_type": "execute_result"
    }
   ],
   "source": [
    "item_name = 'Bluebonnet Super Fruit Cranberry Fruit Extract, 120 Ct'\n",
    "content_based_recommendations(dataset,item_name=item_name)"
   ]
  },
  {
   "cell_type": "markdown",
   "metadata": {},
   "source": [
    "Collaborative Filtering"
   ]
  },
  {
   "cell_type": "code",
   "execution_count": 49,
   "metadata": {},
   "outputs": [],
   "source": [
    "def collaborative_recommenedation(dataset,target_user_id,top=10):\n",
    "    pivot_table = dataset.pivot_table(index='ID',columns='ProdID',values='Rating',aggfunc='mean').fillna(0).astype(int)\n",
    "    user_similarity = cosine_similarity(pivot_table)\n",
    "    target_user_index= pivot_table.index.get_loc(target_user_id)\n",
    "    user_similarities = user_similarity[target_user_index]\n",
    "    similar_user_index = user_similarities.argsort()[::-1][1:] \n",
    "\n",
    "    recommended_items = []\n",
    "\n",
    "    for user_index in similar_user_index:\n",
    "    # Get items rated by the similar user but not by the target user\n",
    "        rated_by_similar_user = pivot_table.iloc[user_index]\n",
    "        not_rated_by_target_user = (rated_by_similar_user == 0) & (pivot_table.iloc[target_user_index] == 0)\n",
    "\n",
    "    # Extract the item IDs of recommended items\n",
    "        recommended_items.extend(pivot_table.columns[not_rated_by_target_user][:top])\n",
    "\n",
    "    recommended_item_details = dataset[dataset['ProdID'].isin(recommended_items)][['Name', 'ReviewCount', 'Brand', 'ImageURL', 'Rating']].head(top)  \n",
    "    return recommended_item_details \n"
   ]
  },
  {
   "cell_type": "code",
   "execution_count": 50,
   "metadata": {},
   "outputs": [
    {
     "name": "stderr",
     "output_type": "stream",
     "text": [
      "C:\\Users\\atanu\\AppData\\Local\\Temp\\ipykernel_9524\\2284630931.py:2: FutureWarning: Downcasting object dtype arrays on .fillna, .ffill, .bfill is deprecated and will change in a future version. Call result.infer_objects(copy=False) instead. To opt-in to the future behavior, set `pd.set_option('future.no_silent_downcasting', True)`\n",
      "  pivot_table = dataset.pivot_table(index='ID',columns='ProdID',values='Rating',aggfunc='mean').fillna(0).astype(int)\n"
     ]
    },
    {
     "name": "stdout",
     "output_type": "stream",
     "text": [
      "Top 5 recommendations for user 10\n"
     ]
    },
    {
     "data": {
      "text/html": [
       "<div>\n",
       "<style scoped>\n",
       "    .dataframe tbody tr th:only-of-type {\n",
       "        vertical-align: middle;\n",
       "    }\n",
       "\n",
       "    .dataframe tbody tr th {\n",
       "        vertical-align: top;\n",
       "    }\n",
       "\n",
       "    .dataframe thead th {\n",
       "        text-align: right;\n",
       "    }\n",
       "</style>\n",
       "<table border=\"1\" class=\"dataframe\">\n",
       "  <thead>\n",
       "    <tr style=\"text-align: right;\">\n",
       "      <th></th>\n",
       "      <th>Name</th>\n",
       "      <th>ReviewCount</th>\n",
       "      <th>Brand</th>\n",
       "      <th>ImageURL</th>\n",
       "      <th>Rating</th>\n",
       "    </tr>\n",
       "  </thead>\n",
       "  <tbody>\n",
       "    <tr>\n",
       "      <th>0</th>\n",
       "      <td>OPI Infinite Shine, Nail Lacquer Nail Polish, ...</td>\n",
       "      <td>0.0</td>\n",
       "      <td>opi</td>\n",
       "      <td>https://i5.walmartimages.com/asr/0e1f4c51-c1a4...</td>\n",
       "      <td>0.0</td>\n",
       "    </tr>\n",
       "    <tr>\n",
       "      <th>3</th>\n",
       "      <td>Kokie Professional Matte Lipstick, Hot Berry, ...</td>\n",
       "      <td>0.0</td>\n",
       "      <td>kokiecosmetics</td>\n",
       "      <td>https://i5.walmartimages.com/asr/25b4b467-bc61...</td>\n",
       "      <td>0.0</td>\n",
       "    </tr>\n",
       "    <tr>\n",
       "      <th>4</th>\n",
       "      <td>Gillette TRAC II Plus Razor Blade Refills, Fit...</td>\n",
       "      <td>131.0</td>\n",
       "      <td>gillette</td>\n",
       "      <td>https://i5.walmartimages.com/asr/1a2ebb06-cd01...</td>\n",
       "      <td>0.0</td>\n",
       "    </tr>\n",
       "    <tr>\n",
       "      <th>15</th>\n",
       "      <td>Clairol Natural Instincts Demi-Permanent Hair ...</td>\n",
       "      <td>2935.0</td>\n",
       "      <td>clairol</td>\n",
       "      <td>https://i5.walmartimages.com/asr/00a6e54a-e431...</td>\n",
       "      <td>3.7</td>\n",
       "    </tr>\n",
       "    <tr>\n",
       "      <th>24</th>\n",
       "      <td>Hempz Milk &amp; Honey Herbal Body Moisturizer 2.2...</td>\n",
       "      <td>7.0</td>\n",
       "      <td>hempz</td>\n",
       "      <td>https://i5.walmartimages.com/asr/83e236e5-392c...</td>\n",
       "      <td>0.0</td>\n",
       "    </tr>\n",
       "  </tbody>\n",
       "</table>\n",
       "</div>"
      ],
      "text/plain": [
       "                                                 Name ReviewCount  \\\n",
       "0   OPI Infinite Shine, Nail Lacquer Nail Polish, ...         0.0   \n",
       "3   Kokie Professional Matte Lipstick, Hot Berry, ...         0.0   \n",
       "4   Gillette TRAC II Plus Razor Blade Refills, Fit...       131.0   \n",
       "15  Clairol Natural Instincts Demi-Permanent Hair ...      2935.0   \n",
       "24  Hempz Milk & Honey Herbal Body Moisturizer 2.2...         7.0   \n",
       "\n",
       "             Brand                                           ImageURL Rating  \n",
       "0              opi  https://i5.walmartimages.com/asr/0e1f4c51-c1a4...    0.0  \n",
       "3   kokiecosmetics  https://i5.walmartimages.com/asr/25b4b467-bc61...    0.0  \n",
       "4         gillette  https://i5.walmartimages.com/asr/1a2ebb06-cd01...    0.0  \n",
       "15         clairol  https://i5.walmartimages.com/asr/00a6e54a-e431...    3.7  \n",
       "24           hempz  https://i5.walmartimages.com/asr/83e236e5-392c...    0.0  "
      ]
     },
     "execution_count": 50,
     "metadata": {},
     "output_type": "execute_result"
    }
   ],
   "source": [
    "target_user_id = 10\n",
    "top = 5\n",
    "collaborative = collaborative_recommenedation(dataset,target_user_id,5)\n",
    "print(f\"Top {top} recommendations for user {target_user_id}\")\n",
    "collaborative"
   ]
  },
  {
   "cell_type": "markdown",
   "metadata": {},
   "source": [
    "Hybrid Recommendation system"
   ]
  },
  {
   "cell_type": "code",
   "execution_count": 51,
   "metadata": {},
   "outputs": [],
   "source": [
    "def hybrid_recommendation(dataset,target_user_id,item_name,top=10):\n",
    "\n",
    "    content_based_recommendation = content_based_recommendations(dataset,item_name,top)\n",
    "\n",
    "    collaborative_recommendation = collaborative_recommenedation(dataset,target_user_id,top)\n",
    "\n",
    "\n",
    "    hybrid_recommendation = pd.concat([content_based_recommendation,collaborative_recommendation]).drop_duplicates()\n",
    "\n",
    "    return hybrid_recommendation.head(top)\n"
   ]
  },
  {
   "cell_type": "code",
   "execution_count": 52,
   "metadata": {},
   "outputs": [
    {
     "name": "stderr",
     "output_type": "stream",
     "text": [
      "C:\\Users\\atanu\\AppData\\Local\\Temp\\ipykernel_9524\\2284630931.py:2: FutureWarning: Downcasting object dtype arrays on .fillna, .ffill, .bfill is deprecated and will change in a future version. Call result.infer_objects(copy=False) instead. To opt-in to the future behavior, set `pd.set_option('future.no_silent_downcasting', True)`\n",
      "  pivot_table = dataset.pivot_table(index='ID',columns='ProdID',values='Rating',aggfunc='mean').fillna(0).astype(int)\n"
     ]
    },
    {
     "name": "stdout",
     "output_type": "stream",
     "text": [
      "Top 5 hybrid recommendation of user id 10 and item name Black Radiance Perfect Tone Matte Lip Crème, Succulent Plum : \n"
     ]
    },
    {
     "data": {
      "text/html": [
       "<div>\n",
       "<style scoped>\n",
       "    .dataframe tbody tr th:only-of-type {\n",
       "        vertical-align: middle;\n",
       "    }\n",
       "\n",
       "    .dataframe tbody tr th {\n",
       "        vertical-align: top;\n",
       "    }\n",
       "\n",
       "    .dataframe thead th {\n",
       "        text-align: right;\n",
       "    }\n",
       "</style>\n",
       "<table border=\"1\" class=\"dataframe\">\n",
       "  <thead>\n",
       "    <tr style=\"text-align: right;\">\n",
       "      <th></th>\n",
       "      <th>Name</th>\n",
       "      <th>ReviewCount</th>\n",
       "      <th>Brand</th>\n",
       "      <th>ImageURL</th>\n",
       "      <th>Rating</th>\n",
       "    </tr>\n",
       "  </thead>\n",
       "  <tbody>\n",
       "    <tr>\n",
       "      <th>896</th>\n",
       "      <td>Black Radiance Perfect Tone Lip Color, Vintage...</td>\n",
       "      <td>78.0</td>\n",
       "      <td>blackradiance</td>\n",
       "      <td>https://i5.walmartimages.com/asr/485f26b4-a19a...</td>\n",
       "      <td>4.7</td>\n",
       "    </tr>\n",
       "    <tr>\n",
       "      <th>2496</th>\n",
       "      <td>Black Radiance Perfect Tone Lip Color, Hollywo...</td>\n",
       "      <td>18.0</td>\n",
       "      <td>blackradiance</td>\n",
       "      <td>https://i5.walmartimages.com/asr/fe3da48f-5142...</td>\n",
       "      <td>4.3</td>\n",
       "    </tr>\n",
       "    <tr>\n",
       "      <th>2136</th>\n",
       "      <td>Black Radiance Brilliant Effects Lip Gloss, Bl...</td>\n",
       "      <td>95.0</td>\n",
       "      <td>blackradiance</td>\n",
       "      <td>https://i5.walmartimages.com/asr/f6784519-2c86...</td>\n",
       "      <td>4.4</td>\n",
       "    </tr>\n",
       "    <tr>\n",
       "      <th>3140</th>\n",
       "      <td>Laura Mercier Tone Perfecting Eye Gel Crème 0....</td>\n",
       "      <td>11.0</td>\n",
       "      <td>lauramercier</td>\n",
       "      <td>https://i5.walmartimages.com/asr/9cd9aea3-5ac3...</td>\n",
       "      <td>3.7</td>\n",
       "    </tr>\n",
       "    <tr>\n",
       "      <th>398</th>\n",
       "      <td>IMAN Skin Tone Evener BB Crème, Light Sand</td>\n",
       "      <td>19.0</td>\n",
       "      <td>imancosmetics</td>\n",
       "      <td>https://i5.walmartimages.com/asr/b387123b-700d...</td>\n",
       "      <td>3.9</td>\n",
       "    </tr>\n",
       "    <tr>\n",
       "      <th>3885</th>\n",
       "      <td>Two-Tone Comfort Yoga Mat</td>\n",
       "      <td>0.0</td>\n",
       "      <td>edx</td>\n",
       "      <td>https://i5.walmartimages.com/asr/75ebb9e7-07eb...</td>\n",
       "      <td>0.0</td>\n",
       "    </tr>\n",
       "    <tr>\n",
       "      <th>4589</th>\n",
       "      <td>Revlon ColorStay Longwear Lip Liner, 665 Plum,...</td>\n",
       "      <td>1678.0</td>\n",
       "      <td>revlon</td>\n",
       "      <td>https://i5.walmartimages.com/asr/075c59a0-3a35...</td>\n",
       "      <td>0.0</td>\n",
       "    </tr>\n",
       "    <tr>\n",
       "      <th>725</th>\n",
       "      <td>LOreal Paris Colour Riche Lip Liner, Lasting P...</td>\n",
       "      <td>85.0</td>\n",
       "      <td>lorealparis</td>\n",
       "      <td>https://i5.walmartimages.com/asr/194b6bcc-6cd6...</td>\n",
       "      <td>4.4</td>\n",
       "    </tr>\n",
       "    <tr>\n",
       "      <th>680</th>\n",
       "      <td>Revlon Revlon Super Lustrous Lipstick with Vit...</td>\n",
       "      <td>2031.0</td>\n",
       "      <td>revlon</td>\n",
       "      <td>https://i5.walmartimages.com/asr/f21188e6-b3ef...</td>\n",
       "      <td>4.4</td>\n",
       "    </tr>\n",
       "    <tr>\n",
       "      <th>1559</th>\n",
       "      <td>LOreal Paris Colour Riche Matte Lip Liner, Mat...</td>\n",
       "      <td>495.0</td>\n",
       "      <td>lorealparis</td>\n",
       "      <td>https://i5.walmartimages.com/asr/baf97085-7231...</td>\n",
       "      <td>4.4</td>\n",
       "    </tr>\n",
       "  </tbody>\n",
       "</table>\n",
       "</div>"
      ],
      "text/plain": [
       "                                                   Name ReviewCount  \\\n",
       "896   Black Radiance Perfect Tone Lip Color, Vintage...        78.0   \n",
       "2496  Black Radiance Perfect Tone Lip Color, Hollywo...        18.0   \n",
       "2136  Black Radiance Brilliant Effects Lip Gloss, Bl...        95.0   \n",
       "3140  Laura Mercier Tone Perfecting Eye Gel Crème 0....        11.0   \n",
       "398          IMAN Skin Tone Evener BB Crème, Light Sand        19.0   \n",
       "3885                          Two-Tone Comfort Yoga Mat         0.0   \n",
       "4589  Revlon ColorStay Longwear Lip Liner, 665 Plum,...      1678.0   \n",
       "725   LOreal Paris Colour Riche Lip Liner, Lasting P...        85.0   \n",
       "680   Revlon Revlon Super Lustrous Lipstick with Vit...      2031.0   \n",
       "1559  LOreal Paris Colour Riche Matte Lip Liner, Mat...       495.0   \n",
       "\n",
       "              Brand                                           ImageURL Rating  \n",
       "896   blackradiance  https://i5.walmartimages.com/asr/485f26b4-a19a...    4.7  \n",
       "2496  blackradiance  https://i5.walmartimages.com/asr/fe3da48f-5142...    4.3  \n",
       "2136  blackradiance  https://i5.walmartimages.com/asr/f6784519-2c86...    4.4  \n",
       "3140   lauramercier  https://i5.walmartimages.com/asr/9cd9aea3-5ac3...    3.7  \n",
       "398   imancosmetics  https://i5.walmartimages.com/asr/b387123b-700d...    3.9  \n",
       "3885            edx  https://i5.walmartimages.com/asr/75ebb9e7-07eb...    0.0  \n",
       "4589         revlon  https://i5.walmartimages.com/asr/075c59a0-3a35...    0.0  \n",
       "725     lorealparis  https://i5.walmartimages.com/asr/194b6bcc-6cd6...    4.4  \n",
       "680          revlon  https://i5.walmartimages.com/asr/f21188e6-b3ef...    4.4  \n",
       "1559    lorealparis  https://i5.walmartimages.com/asr/baf97085-7231...    4.4  "
      ]
     },
     "execution_count": 52,
     "metadata": {},
     "output_type": "execute_result"
    }
   ],
   "source": [
    "target_user_id = 10\n",
    "item_name = 'Black Radiance Perfect Tone Matte Lip Crème, Succulent Plum'\n",
    "\n",
    "\n",
    "hybrid_rec = hybrid_recommendation(dataset,target_user_id,item_name,10)\n",
    "print(f\"Top {top} hybrid recommendation of user id {target_user_id} and item name {item_name} : \")\n",
    "hybrid_rec\n"
   ]
  },
  {
   "cell_type": "code",
   "execution_count": 53,
   "metadata": {},
   "outputs": [
    {
     "data": {
      "text/plain": [
       "'Black Radiance Perfect Tone Matte Lip Crème, Succulent Plum'"
      ]
     },
     "execution_count": 53,
     "metadata": {},
     "output_type": "execute_result"
    }
   ],
   "source": [
    "dataset['Name'][100]"
   ]
  },
  {
   "cell_type": "code",
   "execution_count": null,
   "metadata": {},
   "outputs": [],
   "source": []
  }
 ],
 "metadata": {
  "kernelspec": {
   "display_name": "AtanuAI",
   "language": "python",
   "name": "python3"
  },
  "language_info": {
   "codemirror_mode": {
    "name": "ipython",
    "version": 3
   },
   "file_extension": ".py",
   "mimetype": "text/x-python",
   "name": "python",
   "nbconvert_exporter": "python",
   "pygments_lexer": "ipython3",
   "version": "3.10.16"
  }
 },
 "nbformat": 4,
 "nbformat_minor": 2
}
